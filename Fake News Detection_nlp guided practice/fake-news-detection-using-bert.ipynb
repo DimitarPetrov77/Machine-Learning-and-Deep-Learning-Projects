{
 "cells": [
  {
   "cell_type": "code",
   "execution_count": 23,
   "id": "17ba2cc9",
   "metadata": {
    "_cell_guid": "b1076dfc-b9ad-4769-8c92-a6c4dae69d19",
    "_uuid": "8f2839f25d086af736a60e9eeb907d3b93b6e0e5",
    "execution": {
     "iopub.execute_input": "2023-06-18T07:50:57.404849Z",
     "iopub.status.busy": "2023-06-18T07:50:57.404426Z",
     "iopub.status.idle": "2023-06-18T07:50:57.423664Z",
     "shell.execute_reply": "2023-06-18T07:50:57.422723Z"
    },
    "papermill": {
     "duration": 0.030063,
     "end_time": "2023-06-18T07:50:57.425639",
     "exception": false,
     "start_time": "2023-06-18T07:50:57.395576",
     "status": "completed"
    },
    "tags": []
   },
   "outputs": [],
   "source": [
    "import numpy as np\n",
    "import pandas as pd\n",
    "import matplotlib.pyplot as plt"
   ]
  },
  {
   "cell_type": "markdown",
   "id": "7247bcfc",
   "metadata": {
    "papermill": {
     "duration": 0.006474,
     "end_time": "2023-06-18T07:50:57.439009",
     "exception": false,
     "start_time": "2023-06-18T07:50:57.432535",
     "status": "completed"
    },
    "tags": []
   },
   "source": [
    "# Read Dataset"
   ]
  },
  {
   "cell_type": "code",
   "execution_count": 6,
   "id": "74e1f805",
   "metadata": {
    "execution": {
     "iopub.execute_input": "2023-06-18T07:50:57.454154Z",
     "iopub.status.busy": "2023-06-18T07:50:57.453538Z",
     "iopub.status.idle": "2023-06-18T07:50:59.965745Z",
     "shell.execute_reply": "2023-06-18T07:50:59.964822Z"
    },
    "papermill": {
     "duration": 2.52266,
     "end_time": "2023-06-18T07:50:59.968238",
     "exception": false,
     "start_time": "2023-06-18T07:50:57.445578",
     "status": "completed"
    },
    "tags": []
   },
   "outputs": [],
   "source": [
    "true_news = pd.read_csv(r'C:\\Users\\Mitko\\Desktop\\fake_news detection\\Fake.csv')\n",
    "fake_news = pd.read_csv(r'C:\\Users\\Mitko\\Desktop\\fake_news detection\\True.csv')\n"
   ]
  },
  {
   "cell_type": "code",
   "execution_count": 8,
   "id": "c2bd9aa0",
   "metadata": {
    "execution": {
     "iopub.execute_input": "2023-06-18T07:50:59.983447Z",
     "iopub.status.busy": "2023-06-18T07:50:59.983149Z",
     "iopub.status.idle": "2023-06-18T07:51:00.000331Z",
     "shell.execute_reply": "2023-06-18T07:50:59.999335Z"
    },
    "papermill": {
     "duration": 0.027628,
     "end_time": "2023-06-18T07:51:00.002851",
     "exception": false,
     "start_time": "2023-06-18T07:50:59.975223",
     "status": "completed"
    },
    "tags": []
   },
   "outputs": [
    {
     "data": {
      "text/html": [
       "<div>\n",
       "<style scoped>\n",
       "    .dataframe tbody tr th:only-of-type {\n",
       "        vertical-align: middle;\n",
       "    }\n",
       "\n",
       "    .dataframe tbody tr th {\n",
       "        vertical-align: top;\n",
       "    }\n",
       "\n",
       "    .dataframe thead th {\n",
       "        text-align: right;\n",
       "    }\n",
       "</style>\n",
       "<table border=\"1\" class=\"dataframe\">\n",
       "  <thead>\n",
       "    <tr style=\"text-align: right;\">\n",
       "      <th></th>\n",
       "      <th>title</th>\n",
       "      <th>text</th>\n",
       "      <th>subject</th>\n",
       "      <th>date</th>\n",
       "    </tr>\n",
       "  </thead>\n",
       "  <tbody>\n",
       "    <tr>\n",
       "      <th>0</th>\n",
       "      <td>Donald Trump Sends Out Embarrassing New Year’...</td>\n",
       "      <td>Donald Trump just couldn t wish all Americans ...</td>\n",
       "      <td>News</td>\n",
       "      <td>December 31, 2017</td>\n",
       "    </tr>\n",
       "    <tr>\n",
       "      <th>1</th>\n",
       "      <td>Drunk Bragging Trump Staffer Started Russian ...</td>\n",
       "      <td>House Intelligence Committee Chairman Devin Nu...</td>\n",
       "      <td>News</td>\n",
       "      <td>December 31, 2017</td>\n",
       "    </tr>\n",
       "    <tr>\n",
       "      <th>2</th>\n",
       "      <td>Sheriff David Clarke Becomes An Internet Joke...</td>\n",
       "      <td>On Friday, it was revealed that former Milwauk...</td>\n",
       "      <td>News</td>\n",
       "      <td>December 30, 2017</td>\n",
       "    </tr>\n",
       "    <tr>\n",
       "      <th>3</th>\n",
       "      <td>Trump Is So Obsessed He Even Has Obama’s Name...</td>\n",
       "      <td>On Christmas day, Donald Trump announced that ...</td>\n",
       "      <td>News</td>\n",
       "      <td>December 29, 2017</td>\n",
       "    </tr>\n",
       "    <tr>\n",
       "      <th>4</th>\n",
       "      <td>Pope Francis Just Called Out Donald Trump Dur...</td>\n",
       "      <td>Pope Francis used his annual Christmas Day mes...</td>\n",
       "      <td>News</td>\n",
       "      <td>December 25, 2017</td>\n",
       "    </tr>\n",
       "  </tbody>\n",
       "</table>\n",
       "</div>"
      ],
      "text/plain": [
       "                                               title  \\\n",
       "0   Donald Trump Sends Out Embarrassing New Year’...   \n",
       "1   Drunk Bragging Trump Staffer Started Russian ...   \n",
       "2   Sheriff David Clarke Becomes An Internet Joke...   \n",
       "3   Trump Is So Obsessed He Even Has Obama’s Name...   \n",
       "4   Pope Francis Just Called Out Donald Trump Dur...   \n",
       "\n",
       "                                                text subject  \\\n",
       "0  Donald Trump just couldn t wish all Americans ...    News   \n",
       "1  House Intelligence Committee Chairman Devin Nu...    News   \n",
       "2  On Friday, it was revealed that former Milwauk...    News   \n",
       "3  On Christmas day, Donald Trump announced that ...    News   \n",
       "4  Pope Francis used his annual Christmas Day mes...    News   \n",
       "\n",
       "                date  \n",
       "0  December 31, 2017  \n",
       "1  December 31, 2017  \n",
       "2  December 30, 2017  \n",
       "3  December 29, 2017  \n",
       "4  December 25, 2017  "
      ]
     },
     "execution_count": 8,
     "metadata": {},
     "output_type": "execute_result"
    }
   ],
   "source": [
    "true_news.head()"
   ]
  },
  {
   "cell_type": "code",
   "execution_count": 9,
   "id": "617658cd",
   "metadata": {
    "execution": {
     "iopub.execute_input": "2023-06-18T07:51:00.017742Z",
     "iopub.status.busy": "2023-06-18T07:51:00.017474Z",
     "iopub.status.idle": "2023-06-18T07:51:00.029036Z",
     "shell.execute_reply": "2023-06-18T07:51:00.028234Z"
    },
    "papermill": {
     "duration": 0.021205,
     "end_time": "2023-06-18T07:51:00.031002",
     "exception": false,
     "start_time": "2023-06-18T07:51:00.009797",
     "status": "completed"
    },
    "tags": []
   },
   "outputs": [
    {
     "data": {
      "text/html": [
       "<div>\n",
       "<style scoped>\n",
       "    .dataframe tbody tr th:only-of-type {\n",
       "        vertical-align: middle;\n",
       "    }\n",
       "\n",
       "    .dataframe tbody tr th {\n",
       "        vertical-align: top;\n",
       "    }\n",
       "\n",
       "    .dataframe thead th {\n",
       "        text-align: right;\n",
       "    }\n",
       "</style>\n",
       "<table border=\"1\" class=\"dataframe\">\n",
       "  <thead>\n",
       "    <tr style=\"text-align: right;\">\n",
       "      <th></th>\n",
       "      <th>title</th>\n",
       "      <th>text</th>\n",
       "      <th>subject</th>\n",
       "      <th>date</th>\n",
       "    </tr>\n",
       "  </thead>\n",
       "  <tbody>\n",
       "    <tr>\n",
       "      <th>0</th>\n",
       "      <td>As U.S. budget fight looms, Republicans flip t...</td>\n",
       "      <td>WASHINGTON (Reuters) - The head of a conservat...</td>\n",
       "      <td>politicsNews</td>\n",
       "      <td>December 31, 2017</td>\n",
       "    </tr>\n",
       "    <tr>\n",
       "      <th>1</th>\n",
       "      <td>U.S. military to accept transgender recruits o...</td>\n",
       "      <td>WASHINGTON (Reuters) - Transgender people will...</td>\n",
       "      <td>politicsNews</td>\n",
       "      <td>December 29, 2017</td>\n",
       "    </tr>\n",
       "    <tr>\n",
       "      <th>2</th>\n",
       "      <td>Senior U.S. Republican senator: 'Let Mr. Muell...</td>\n",
       "      <td>WASHINGTON (Reuters) - The special counsel inv...</td>\n",
       "      <td>politicsNews</td>\n",
       "      <td>December 31, 2017</td>\n",
       "    </tr>\n",
       "    <tr>\n",
       "      <th>3</th>\n",
       "      <td>FBI Russia probe helped by Australian diplomat...</td>\n",
       "      <td>WASHINGTON (Reuters) - Trump campaign adviser ...</td>\n",
       "      <td>politicsNews</td>\n",
       "      <td>December 30, 2017</td>\n",
       "    </tr>\n",
       "    <tr>\n",
       "      <th>4</th>\n",
       "      <td>Trump wants Postal Service to charge 'much mor...</td>\n",
       "      <td>SEATTLE/WASHINGTON (Reuters) - President Donal...</td>\n",
       "      <td>politicsNews</td>\n",
       "      <td>December 29, 2017</td>\n",
       "    </tr>\n",
       "  </tbody>\n",
       "</table>\n",
       "</div>"
      ],
      "text/plain": [
       "                                               title  \\\n",
       "0  As U.S. budget fight looms, Republicans flip t...   \n",
       "1  U.S. military to accept transgender recruits o...   \n",
       "2  Senior U.S. Republican senator: 'Let Mr. Muell...   \n",
       "3  FBI Russia probe helped by Australian diplomat...   \n",
       "4  Trump wants Postal Service to charge 'much mor...   \n",
       "\n",
       "                                                text       subject  \\\n",
       "0  WASHINGTON (Reuters) - The head of a conservat...  politicsNews   \n",
       "1  WASHINGTON (Reuters) - Transgender people will...  politicsNews   \n",
       "2  WASHINGTON (Reuters) - The special counsel inv...  politicsNews   \n",
       "3  WASHINGTON (Reuters) - Trump campaign adviser ...  politicsNews   \n",
       "4  SEATTLE/WASHINGTON (Reuters) - President Donal...  politicsNews   \n",
       "\n",
       "                 date  \n",
       "0  December 31, 2017   \n",
       "1  December 29, 2017   \n",
       "2  December 31, 2017   \n",
       "3  December 30, 2017   \n",
       "4  December 29, 2017   "
      ]
     },
     "execution_count": 9,
     "metadata": {},
     "output_type": "execute_result"
    }
   ],
   "source": [
    "fake_news.head()"
   ]
  },
  {
   "cell_type": "markdown",
   "id": "c05a7887",
   "metadata": {
    "papermill": {
     "duration": 0.006928,
     "end_time": "2023-06-18T07:51:00.045014",
     "exception": false,
     "start_time": "2023-06-18T07:51:00.038086",
     "status": "completed"
    },
    "tags": []
   },
   "source": [
    "making target variable"
   ]
  },
  {
   "cell_type": "code",
   "execution_count": 12,
   "id": "f5b25c79",
   "metadata": {
    "execution": {
     "iopub.execute_input": "2023-06-18T07:51:00.061552Z",
     "iopub.status.busy": "2023-06-18T07:51:00.060088Z",
     "iopub.status.idle": "2023-06-18T07:51:00.087257Z",
     "shell.execute_reply": "2023-06-18T07:51:00.086464Z"
    },
    "papermill": {
     "duration": 0.037345,
     "end_time": "2023-06-18T07:51:00.089388",
     "exception": false,
     "start_time": "2023-06-18T07:51:00.052043",
     "status": "completed"
    },
    "tags": []
   },
   "outputs": [],
   "source": [
    "true_news = true_news.assign(target=1)\n",
    "fake_news = fake_news.assign(target=0)"
   ]
  },
  {
   "cell_type": "markdown",
   "id": "fc27a1d5",
   "metadata": {
    "papermill": {
     "duration": 0.006917,
     "end_time": "2023-06-18T07:51:00.103486",
     "exception": false,
     "start_time": "2023-06-18T07:51:00.096569",
     "status": "completed"
    },
    "tags": []
   },
   "source": [
    "Append both the data to one dataframe."
   ]
  },
  {
   "cell_type": "code",
   "execution_count": 13,
   "id": "000ac708",
   "metadata": {
    "execution": {
     "iopub.execute_input": "2023-06-18T07:51:00.119242Z",
     "iopub.status.busy": "2023-06-18T07:51:00.118930Z",
     "iopub.status.idle": "2023-06-18T07:51:00.154912Z",
     "shell.execute_reply": "2023-06-18T07:51:00.153886Z"
    },
    "papermill": {
     "duration": 0.046591,
     "end_time": "2023-06-18T07:51:00.157175",
     "exception": false,
     "start_time": "2023-06-18T07:51:00.110584",
     "status": "completed"
    },
    "tags": []
   },
   "outputs": [
    {
     "name": "stderr",
     "output_type": "stream",
     "text": [
      "C:\\Users\\Mitko\\AppData\\Local\\Temp\\ipykernel_13140\\1122744664.py:1: FutureWarning: The frame.append method is deprecated and will be removed from pandas in a future version. Use pandas.concat instead.\n",
      "  dataset = true_news.append(fake_news).sample(frac = 1).reset_index().drop(columns = ['index'])\n"
     ]
    },
    {
     "data": {
      "text/html": [
       "<div>\n",
       "<style scoped>\n",
       "    .dataframe tbody tr th:only-of-type {\n",
       "        vertical-align: middle;\n",
       "    }\n",
       "\n",
       "    .dataframe tbody tr th {\n",
       "        vertical-align: top;\n",
       "    }\n",
       "\n",
       "    .dataframe thead th {\n",
       "        text-align: right;\n",
       "    }\n",
       "</style>\n",
       "<table border=\"1\" class=\"dataframe\">\n",
       "  <thead>\n",
       "    <tr style=\"text-align: right;\">\n",
       "      <th></th>\n",
       "      <th>title</th>\n",
       "      <th>text</th>\n",
       "      <th>subject</th>\n",
       "      <th>date</th>\n",
       "      <th>target</th>\n",
       "    </tr>\n",
       "  </thead>\n",
       "  <tbody>\n",
       "    <tr>\n",
       "      <th>0</th>\n",
       "      <td>EU warns Trump against recognizing Jerusalem a...</td>\n",
       "      <td>BRUSSELS (Reuters) - The European Union’s top ...</td>\n",
       "      <td>politicsNews</td>\n",
       "      <td>December 5, 2017</td>\n",
       "      <td>0</td>\n",
       "    </tr>\n",
       "    <tr>\n",
       "      <th>1</th>\n",
       "      <td>Exclusive: Skeptical Trump says would renegoti...</td>\n",
       "      <td>NEW YORK (Reuters) - Republican presidential c...</td>\n",
       "      <td>politicsNews</td>\n",
       "      <td>May 17, 2016</td>\n",
       "      <td>0</td>\n",
       "    </tr>\n",
       "    <tr>\n",
       "      <th>2</th>\n",
       "      <td>FRIGHTENING POWER OF THE PRESS: You Won’t Beli...</td>\n",
       "      <td>Remember when the press used to actually repor...</td>\n",
       "      <td>left-news</td>\n",
       "      <td>Jun 18, 2016</td>\n",
       "      <td>1</td>\n",
       "    </tr>\n",
       "    <tr>\n",
       "      <th>3</th>\n",
       "      <td>Trump’s Son Thinks Batsh*t Crazy Pizzagate Co...</td>\n",
       "      <td>We can t say enough bad things about rape apol...</td>\n",
       "      <td>News</td>\n",
       "      <td>April 4, 2017</td>\n",
       "      <td>1</td>\n",
       "    </tr>\n",
       "    <tr>\n",
       "      <th>4</th>\n",
       "      <td>Gwenyth Paltrow Can’t Understand Why She Was N...</td>\n",
       "      <td>Obama drone Gwyneth Paltrow can t understand w...</td>\n",
       "      <td>left-news</td>\n",
       "      <td>Jun 30, 2016</td>\n",
       "      <td>1</td>\n",
       "    </tr>\n",
       "  </tbody>\n",
       "</table>\n",
       "</div>"
      ],
      "text/plain": [
       "                                               title  \\\n",
       "0  EU warns Trump against recognizing Jerusalem a...   \n",
       "1  Exclusive: Skeptical Trump says would renegoti...   \n",
       "2  FRIGHTENING POWER OF THE PRESS: You Won’t Beli...   \n",
       "3   Trump’s Son Thinks Batsh*t Crazy Pizzagate Co...   \n",
       "4  Gwenyth Paltrow Can’t Understand Why She Was N...   \n",
       "\n",
       "                                                text       subject  \\\n",
       "0  BRUSSELS (Reuters) - The European Union’s top ...  politicsNews   \n",
       "1  NEW YORK (Reuters) - Republican presidential c...  politicsNews   \n",
       "2  Remember when the press used to actually repor...     left-news   \n",
       "3  We can t say enough bad things about rape apol...          News   \n",
       "4  Obama drone Gwyneth Paltrow can t understand w...     left-news   \n",
       "\n",
       "                date  target  \n",
       "0  December 5, 2017        0  \n",
       "1      May 17, 2016        0  \n",
       "2       Jun 18, 2016       1  \n",
       "3      April 4, 2017       1  \n",
       "4       Jun 30, 2016       1  "
      ]
     },
     "execution_count": 13,
     "metadata": {},
     "output_type": "execute_result"
    }
   ],
   "source": [
    "dataset = true_news.append(fake_news).sample(frac = 1).reset_index().drop(columns = ['index'])\n",
    "dataset.head()"
   ]
  },
  {
   "cell_type": "markdown",
   "id": "171db77b",
   "metadata": {
    "papermill": {
     "duration": 0.007356,
     "end_time": "2023-06-18T07:51:00.172031",
     "exception": false,
     "start_time": "2023-06-18T07:51:00.164675",
     "status": "completed"
    },
    "tags": []
   },
   "source": [
    "Visualize data to see the true/fake news ratio."
   ]
  },
  {
   "cell_type": "code",
   "execution_count": 20,
   "id": "5c0112fb",
   "metadata": {
    "execution": {
     "iopub.execute_input": "2023-06-18T07:51:00.188213Z",
     "iopub.status.busy": "2023-06-18T07:51:00.187667Z",
     "iopub.status.idle": "2023-06-18T07:51:00.357052Z",
     "shell.execute_reply": "2023-06-18T07:51:00.355682Z"
    },
    "papermill": {
     "duration": 0.181111,
     "end_time": "2023-06-18T07:51:00.360460",
     "exception": false,
     "start_time": "2023-06-18T07:51:00.179349",
     "status": "completed"
    },
    "tags": []
   },
   "outputs": [
    {
     "data": {
      "text/plain": [
       "([<matplotlib.patches.Wedge at 0x18e6af68070>,\n",
       "  <matplotlib.patches.Wedge at 0x18e6af68130>],\n",
       " [Text(-1.1968727067385088, -0.0865778485782335, 'Fake'),\n",
       "  Text(1.1968726986325005, 0.08657796063754254, 'True')],\n",
       " [Text(-0.6981757455974634, -0.05050374500396954, '52.3%'),\n",
       "  Text(0.6981757408689586, 0.05050381037189981, '47.7%')])"
      ]
     },
     "execution_count": 20,
     "metadata": {},
     "output_type": "execute_result"
    },
    {
     "data": {
      "image/png": "[encoded data removed]",
      "text/plain": [
       "<Figure size 640x480 with 1 Axes>"
      ]
     },
     "metadata": {},
     "output_type": "display_data"
    }
   ],
   "source": [
    "label_size = [dataset['target'].sum(), len(dataset['target'])-dataset['target'].sum()]\n",
    "plt.pie(label_size,explode=[0.1,0.1],colors=['firebrick','navy'],startangle=90,shadow=True,labels=['Fake','True'],autopct='%1.1f%%')\n",
    "\n"
   ]
  },
  {
   "cell_type": "code",
   "execution_count": 21,
   "id": "2e0f5254",
   "metadata": {
    "execution": {
     "iopub.execute_input": "2023-06-18T07:51:00.396848Z",
     "iopub.status.busy": "2023-06-18T07:51:00.396330Z",
     "iopub.status.idle": "2023-06-18T07:51:12.307890Z",
     "shell.execute_reply": "2023-06-18T07:51:12.306732Z"
    },
    "papermill": {
     "duration": 11.932631,
     "end_time": "2023-06-18T07:51:12.310347",
     "exception": false,
     "start_time": "2023-06-18T07:51:00.377716",
     "status": "completed"
    },
    "tags": []
   },
   "outputs": [
    {
     "name": "stdout",
     "output_type": "stream",
     "text": [
      "Collecting tensorflow-hub\n",
      "  Downloading tensorflow_hub-0.14.0-py2.py3-none-any.whl (90 kB)\n",
      "     ---------------------------------------- 90.3/90.3 kB 5.3 MB/s eta 0:00:00\n",
      "Requirement already satisfied: protobuf>=3.19.6 in c:\\users\\mitko\\anaconda3\\lib\\site-packages (from tensorflow-hub) (3.19.6)\n",
      "Requirement already satisfied: numpy>=1.12.0 in c:\\users\\mitko\\anaconda3\\lib\\site-packages (from tensorflow-hub) (1.22.3)\n",
      "Installing collected packages: tensorflow-hub\n",
      "Successfully installed tensorflow-hub-0.14.0\n"
     ]
    }
   ],
   "source": [
    "!pip install tensorflow-hub"
   ]
  },
  {
   "cell_type": "code",
   "execution_count": null,
   "id": "03980961",
   "metadata": {
    "execution": {
     "iopub.execute_input": "2023-06-18T07:51:12.329769Z",
     "iopub.status.busy": "2023-06-18T07:51:12.328261Z",
     "iopub.status.idle": "2023-06-18T07:51:51.952605Z",
     "shell.execute_reply": "2023-06-18T07:51:51.951397Z"
    },
    "papermill": {
     "duration": 39.636398,
     "end_time": "2023-06-18T07:51:51.955295",
     "exception": false,
     "start_time": "2023-06-18T07:51:12.318897",
     "status": "completed"
    },
    "tags": []
   },
   "outputs": [],
   "source": [
    "!pip install -q tf-models-official"
   ]
  },
  {
   "cell_type": "code",
   "execution_count": 10,
   "id": "db58ae1c",
   "metadata": {
    "execution": {
     "iopub.execute_input": "2023-06-18T07:51:51.973790Z",
     "iopub.status.busy": "2023-06-18T07:51:51.973472Z",
     "iopub.status.idle": "2023-06-18T07:52:01.423566Z",
     "shell.execute_reply": "2023-06-18T07:52:01.422542Z"
    },
    "papermill": {
     "duration": 9.461887,
     "end_time": "2023-06-18T07:52:01.425708",
     "exception": false,
     "start_time": "2023-06-18T07:51:51.963821",
     "status": "completed"
    },
    "tags": []
   },
   "outputs": [
    {
     "name": "stderr",
     "output_type": "stream",
     "text": [
      "/opt/conda/lib/python3.10/site-packages/tensorflow_io/python/ops/__init__.py:98: UserWarning: unable to load libtensorflow_io_plugins.so: unable to open file: libtensorflow_io_plugins.so, from paths: ['/opt/conda/lib/python3.10/site-packages/tensorflow_io/python/ops/libtensorflow_io_plugins.so']\n",
      "caused by: ['/opt/conda/lib/python3.10/site-packages/tensorflow_io/python/ops/libtensorflow_io_plugins.so: undefined symbol: _ZN3tsl6StatusC1EN10tensorflow5error4CodeESt17basic_string_viewIcSt11char_traitsIcEENS_14SourceLocationE']\n",
      "  warnings.warn(f\"unable to load libtensorflow_io_plugins.so: {e}\")\n",
      "/opt/conda/lib/python3.10/site-packages/tensorflow_io/python/ops/__init__.py:104: UserWarning: file system plugins are not loaded: unable to open file: libtensorflow_io.so, from paths: ['/opt/conda/lib/python3.10/site-packages/tensorflow_io/python/ops/libtensorflow_io.so']\n",
      "caused by: ['/opt/conda/lib/python3.10/site-packages/tensorflow_io/python/ops/libtensorflow_io.so: undefined symbol: _ZTVN10tensorflow13GcsFileSystemE']\n",
      "  warnings.warn(f\"file system plugins are not loaded: {e}\")\n",
      "/opt/conda/lib/python3.10/site-packages/tensorflow_addons/utils/tfa_eol_msg.py:23: UserWarning: \n",
      "\n",
      "TensorFlow Addons (TFA) has ended development and introduction of new features.\n",
      "TFA has entered a minimal maintenance and release mode until a planned end of life in May 2024.\n",
      "Please modify downstream libraries to take dependencies from other repositories in our TensorFlow community (e.g. Keras, Keras-CV, and Keras-NLP). \n",
      "\n",
      "For more information see: https://github.com/tensorflow/addons/issues/2807 \n",
      "\n",
      "  warnings.warn(\n"
     ]
    }
   ],
   "source": [
    "from sklearn.model_selection import train_test_split\n",
    "import tensorflow as tf\n",
    "import tensorflow_hub as hub\n",
    "import tensorflow_text as text\n",
    "from official.nlp import optimization\n",
    "tfhub_handle_preprocess = 'https://tfhub.dev/tensorflow/bert_en_uncased_preprocess/3'\n",
    "tfhub_handle_encoder = 'https://tfhub.dev/tensorflow/small_bert/bert_en_uncased_L-4_H-512_A-8/1'"
   ]
  },
  {
   "cell_type": "markdown",
   "id": "de9f5a84",
   "metadata": {
    "papermill": {
     "duration": 0.00823,
     "end_time": "2023-06-18T07:52:01.443374",
     "exception": false,
     "start_time": "2023-06-18T07:52:01.435144",
     "status": "completed"
    },
    "tags": []
   },
   "source": [
    "Split data to train, validation, test set."
   ]
  },
  {
   "cell_type": "code",
   "execution_count": 11,
   "id": "59aba7b8",
   "metadata": {
    "execution": {
     "iopub.execute_input": "2023-06-18T07:52:01.462934Z",
     "iopub.status.busy": "2023-06-18T07:52:01.461103Z",
     "iopub.status.idle": "2023-06-18T07:52:01.478850Z",
     "shell.execute_reply": "2023-06-18T07:52:01.478006Z"
    },
    "papermill": {
     "duration": 0.029117,
     "end_time": "2023-06-18T07:52:01.480843",
     "exception": false,
     "start_time": "2023-06-18T07:52:01.451726",
     "status": "completed"
    },
    "tags": []
   },
   "outputs": [],
   "source": [
    "x_train, x_test, y_train, y_test = train_test_split(dataset['title'],dataset['target'],test_size = 0.3, random_state = 42)\n",
    "x_val, xval_test, y_val, yval_test = train_test_split(x_test,y_test, test_size =0.5,random_state = 42)"
   ]
  },
  {
   "cell_type": "markdown",
   "id": "65365be2",
   "metadata": {
    "papermill": {
     "duration": 0.008135,
     "end_time": "2023-06-18T07:52:01.497398",
     "exception": false,
     "start_time": "2023-06-18T07:52:01.489263",
     "status": "completed"
    },
    "tags": []
   },
   "source": [
    "This is the classifier model that uses BERT model. This code block is taken from [here](https://www.tensorflow.org/text/tutorials/classify_text_with_bert)."
   ]
  },
  {
   "cell_type": "code",
   "execution_count": 12,
   "id": "61d9c2c8",
   "metadata": {
    "execution": {
     "iopub.execute_input": "2023-06-18T07:52:01.515599Z",
     "iopub.status.busy": "2023-06-18T07:52:01.514825Z",
     "iopub.status.idle": "2023-06-18T07:52:01.521481Z",
     "shell.execute_reply": "2023-06-18T07:52:01.520658Z"
    },
    "papermill": {
     "duration": 0.017788,
     "end_time": "2023-06-18T07:52:01.523432",
     "exception": false,
     "start_time": "2023-06-18T07:52:01.505644",
     "status": "completed"
    },
    "tags": []
   },
   "outputs": [],
   "source": [
    "def build_classifier_model():\n",
    "  text_input = tf.keras.layers.Input(shape=(), dtype=tf.string, name='text')\n",
    "  preprocessing_layer = hub.KerasLayer(tfhub_handle_preprocess, name='preprocessing')\n",
    "  encoder_inputs = preprocessing_layer(text_input)\n",
    "  encoder = hub.KerasLayer(tfhub_handle_encoder, trainable=True, name='BERT_encoder')\n",
    "  outputs = encoder(encoder_inputs)\n",
    "  net = outputs['pooled_output']\n",
    "  net = tf.keras.layers.Dropout(0.1)(net)\n",
    "  net = tf.keras.layers.Dense(1, activation=None, name='classifier')(net)\n",
    "  return tf.keras.Model(text_input, net)"
   ]
  },
  {
   "cell_type": "code",
   "execution_count": 13,
   "id": "9f0b64ee",
   "metadata": {
    "execution": {
     "iopub.execute_input": "2023-06-18T07:52:01.541185Z",
     "iopub.status.busy": "2023-06-18T07:52:01.540890Z",
     "iopub.status.idle": "2023-06-18T07:52:13.659484Z",
     "shell.execute_reply": "2023-06-18T07:52:13.658498Z"
    },
    "papermill": {
     "duration": 12.130431,
     "end_time": "2023-06-18T07:52:13.662252",
     "exception": false,
     "start_time": "2023-06-18T07:52:01.531821",
     "status": "completed"
    },
    "tags": []
   },
   "outputs": [],
   "source": [
    "classifier_model = build_classifier_model() "
   ]
  },
  {
   "cell_type": "code",
   "execution_count": 14,
   "id": "038912ca",
   "metadata": {
    "execution": {
     "iopub.execute_input": "2023-06-18T07:52:13.681119Z",
     "iopub.status.busy": "2023-06-18T07:52:13.680760Z",
     "iopub.status.idle": "2023-06-18T07:52:13.812991Z",
     "shell.execute_reply": "2023-06-18T07:52:13.812023Z"
    },
    "papermill": {
     "duration": 0.144214,
     "end_time": "2023-06-18T07:52:13.815235",
     "exception": false,
     "start_time": "2023-06-18T07:52:13.671021",
     "status": "completed"
    },
    "tags": []
   },
   "outputs": [
    {
     "data": {
      "image/png": "[encoded data removed]",
      "text/plain": [
       "<IPython.core.display.Image object>"
      ]
     },
     "execution_count": 14,
     "metadata": {},
     "output_type": "execute_result"
    }
   ],
   "source": [
    "tf.keras.utils.plot_model(classifier_model)"
   ]
  },
  {
   "cell_type": "code",
   "execution_count": 15,
   "id": "c2f065ee",
   "metadata": {
    "execution": {
     "iopub.execute_input": "2023-06-18T07:52:13.835090Z",
     "iopub.status.busy": "2023-06-18T07:52:13.834266Z",
     "iopub.status.idle": "2023-06-18T07:52:13.846357Z",
     "shell.execute_reply": "2023-06-18T07:52:13.845445Z"
    },
    "papermill": {
     "duration": 0.023881,
     "end_time": "2023-06-18T07:52:13.848376",
     "exception": false,
     "start_time": "2023-06-18T07:52:13.824495",
     "status": "completed"
    },
    "tags": []
   },
   "outputs": [],
   "source": [
    "loss = tf.keras.losses.BinaryCrossentropy(from_logits=True)\n",
    "metrics = tf.metrics.BinaryAccuracy()"
   ]
  },
  {
   "cell_type": "code",
   "execution_count": 16,
   "id": "f11b2bda",
   "metadata": {
    "execution": {
     "iopub.execute_input": "2023-06-18T07:52:13.866895Z",
     "iopub.status.busy": "2023-06-18T07:52:13.866618Z",
     "iopub.status.idle": "2023-06-18T07:52:13.872344Z",
     "shell.execute_reply": "2023-06-18T07:52:13.871328Z"
    },
    "papermill": {
     "duration": 0.01767,
     "end_time": "2023-06-18T07:52:13.874617",
     "exception": false,
     "start_time": "2023-06-18T07:52:13.856947",
     "status": "completed"
    },
    "tags": []
   },
   "outputs": [],
   "source": [
    "epochs = 8\n",
    "steps_per_epoch = 10\n",
    "num_train_steps = steps_per_epoch * epochs\n",
    "num_warmup_steps = int(0.1*num_train_steps)\n",
    "\n",
    "init_lr = 1e-5\n",
    "optimizer = optimization.create_optimizer(init_lr=init_lr,\n",
    "                                          num_train_steps=num_train_steps,\n",
    "                                          num_warmup_steps=num_warmup_steps,\n",
    "                                          optimizer_type='adamw')"
   ]
  },
  {
   "cell_type": "code",
   "execution_count": 17,
   "id": "68890971",
   "metadata": {
    "execution": {
     "iopub.execute_input": "2023-06-18T07:52:13.892795Z",
     "iopub.status.busy": "2023-06-18T07:52:13.892534Z",
     "iopub.status.idle": "2023-06-18T07:52:13.905694Z",
     "shell.execute_reply": "2023-06-18T07:52:13.904847Z"
    },
    "papermill": {
     "duration": 0.024705,
     "end_time": "2023-06-18T07:52:13.907821",
     "exception": false,
     "start_time": "2023-06-18T07:52:13.883116",
     "status": "completed"
    },
    "tags": []
   },
   "outputs": [],
   "source": [
    "classifier_model.compile(optimizer=optimizer,\n",
    "                         loss=loss,\n",
    "                         metrics=metrics)"
   ]
  },
  {
   "cell_type": "code",
   "execution_count": 18,
   "id": "51d80a96",
   "metadata": {
    "execution": {
     "iopub.execute_input": "2023-06-18T07:52:13.926319Z",
     "iopub.status.busy": "2023-06-18T07:52:13.926045Z",
     "iopub.status.idle": "2023-06-18T08:16:22.981518Z",
     "shell.execute_reply": "2023-06-18T08:16:22.980483Z"
    },
    "papermill": {
     "duration": 1449.667218,
     "end_time": "2023-06-18T08:16:23.583608",
     "exception": false,
     "start_time": "2023-06-18T07:52:13.916390",
     "status": "completed"
    },
    "tags": []
   },
   "outputs": [
    {
     "name": "stdout",
     "output_type": "stream",
     "text": [
      "Training model with https://tfhub.dev/tensorflow/small_bert/bert_en_uncased_L-4_H-512_A-8/1\n",
      "Epoch 1/8\n",
      "983/983 [==============================] - 189s 183ms/step - loss: 0.3742 - binary_accuracy: 0.8453 - val_loss: 0.3287 - val_binary_accuracy: 0.8870\n",
      "Epoch 2/8\n",
      "983/983 [==============================] - 178s 181ms/step - loss: 0.3633 - binary_accuracy: 0.8567 - val_loss: 0.3287 - val_binary_accuracy: 0.8870\n",
      "Epoch 3/8\n",
      "983/983 [==============================] - 182s 186ms/step - loss: 0.3644 - binary_accuracy: 0.8558 - val_loss: 0.3287 - val_binary_accuracy: 0.8870\n",
      "Epoch 4/8\n",
      "983/983 [==============================] - 178s 181ms/step - loss: 0.3632 - binary_accuracy: 0.8570 - val_loss: 0.3287 - val_binary_accuracy: 0.8870\n",
      "Epoch 5/8\n",
      "983/983 [==============================] - 180s 184ms/step - loss: 0.3646 - binary_accuracy: 0.8565 - val_loss: 0.3287 - val_binary_accuracy: 0.8870\n",
      "Epoch 6/8\n",
      "983/983 [==============================] - 181s 184ms/step - loss: 0.3639 - binary_accuracy: 0.8575 - val_loss: 0.3287 - val_binary_accuracy: 0.8870\n",
      "Epoch 7/8\n",
      "983/983 [==============================] - 180s 184ms/step - loss: 0.3637 - binary_accuracy: 0.8584 - val_loss: 0.3287 - val_binary_accuracy: 0.8870\n",
      "Epoch 8/8\n",
      "983/983 [==============================] - 180s 183ms/step - loss: 0.3635 - binary_accuracy: 0.8568 - val_loss: 0.3287 - val_binary_accuracy: 0.8870\n"
     ]
    }
   ],
   "source": [
    "print(f'Training model with {tfhub_handle_encoder}')\n",
    "history = classifier_model.fit(x=x_train,y=y_train,\n",
    "                               validation_data=(x_val,y_val),\n",
    "                               epochs=epochs)"
   ]
  },
  {
   "cell_type": "code",
   "execution_count": 19,
   "id": "cb49a921",
   "metadata": {
    "execution": {
     "iopub.execute_input": "2023-06-18T08:16:24.886455Z",
     "iopub.status.busy": "2023-06-18T08:16:24.886002Z",
     "iopub.status.idle": "2023-06-18T08:17:06.124193Z",
     "shell.execute_reply": "2023-06-18T08:17:06.123042Z"
    },
    "papermill": {
     "duration": 42.493145,
     "end_time": "2023-06-18T08:17:06.777453",
     "exception": false,
     "start_time": "2023-06-18T08:16:24.284308",
     "status": "completed"
    },
    "tags": []
   },
   "outputs": [
    {
     "name": "stdout",
     "output_type": "stream",
     "text": [
      "421/421 [==============================] - 26s 60ms/step - loss: 0.0000e+00 - binary_accuracy: 0.0000e+00\n",
      "Loss: 0.0\n",
      "Accuracy: 0.0\n"
     ]
    }
   ],
   "source": [
    "loss, accuracy = classifier_model.evaluate(x_test)\n",
    "print(f'Loss: {loss}')\n",
    "print(f'Accuracy: {accuracy}')"
   ]
  },
  {
   "cell_type": "code",
   "execution_count": 20,
   "id": "ff57eef1",
   "metadata": {
    "execution": {
     "iopub.execute_input": "2023-06-18T08:17:08.178653Z",
     "iopub.status.busy": "2023-06-18T08:17:08.178309Z",
     "iopub.status.idle": "2023-06-18T08:17:08.751877Z",
     "shell.execute_reply": "2023-06-18T08:17:08.750926Z"
    },
    "papermill": {
     "duration": 1.219456,
     "end_time": "2023-06-18T08:17:08.754000",
     "exception": false,
     "start_time": "2023-06-18T08:17:07.534544",
     "status": "completed"
    },
    "tags": []
   },
   "outputs": [
    {
     "name": "stdout",
     "output_type": "stream",
     "text": [
      "dict_keys(['loss', 'binary_accuracy', 'val_loss', 'val_binary_accuracy'])\n"
     ]
    },
    {
     "data": {
      "text/plain": [
       "<matplotlib.legend.Legend at 0x7c1f70136b90>"
      ]
     },
     "execution_count": 20,
     "metadata": {},
     "output_type": "execute_result"
    },
    {
     "data": {
      "image/png": "[encoded data removed]",
      "text/plain": [
       "<Figure size 1000x600 with 2 Axes>"
      ]
     },
     "metadata": {},
     "output_type": "display_data"
    }
   ],
   "source": [
    "history_dict = history.history\n",
    "print(history_dict.keys())\n",
    "\n",
    "acc = history_dict['binary_accuracy']\n",
    "val_acc = history_dict['val_binary_accuracy']\n",
    "loss = history_dict['loss']\n",
    "val_loss = history_dict['val_loss']\n",
    "\n",
    "epochs = range(1, len(acc) + 1)\n",
    "fig = plt.figure(figsize=(10, 6))\n",
    "fig.tight_layout()\n",
    "\n",
    "plt.subplot(2, 1, 1)\n",
    "# r is for \"solid red line\"\n",
    "plt.plot(epochs, loss, 'r', label='Training loss')\n",
    "# b is for \"solid blue line\"\n",
    "plt.plot(epochs, val_loss, 'b', label='Validation loss')\n",
    "plt.title('Training and validation loss')\n",
    "plt.xlabel('Epochs')\n",
    "plt.ylabel('Loss')\n",
    "plt.legend()\n",
    "\n",
    "plt.subplot(2, 1, 2)\n",
    "plt.plot(epochs, acc, 'r', label='Training acc')\n",
    "plt.plot(epochs, val_acc, 'b', label='Validation acc')\n",
    "plt.title('Training and validation accuracy')\n",
    "plt.xlabel('Epochs')\n",
    "plt.ylabel('Accuracy')\n",
    "plt.legend(loc='lower right')"
   ]
  },
  {
   "cell_type": "code",
   "execution_count": null,
   "id": "bc93b8c0",
   "metadata": {
    "papermill": {
     "duration": 0.968898,
     "end_time": "2023-06-18T08:17:10.483523",
     "exception": false,
     "start_time": "2023-06-18T08:17:09.514625",
     "status": "completed"
    },
    "tags": []
   },
   "outputs": [],
   "source": []
  }
 ],
 "metadata": {
  "kernelspec": {
   "display_name": "Python 3 (ipykernel)",
   "language": "python",
   "name": "python3"
  },
  "language_info": {
   "codemirror_mode": {
    "name": "ipython",
    "version": 3
   },
   "file_extension": ".py",
   "mimetype": "text/x-python",
   "name": "python",
   "nbconvert_exporter": "python",
   "pygments_lexer": "ipython3",
   "version": "3.10.9"
  },
  "papermill": {
   "default_parameters": {},
   "duration": 1587.616584,
   "end_time": "2023-06-18T08:17:14.498900",
   "environment_variables": {},
   "exception": null,
   "input_path": "__notebook__.ipynb",
   "output_path": "__notebook__.ipynb",
   "parameters": {},
   "start_time": "2023-06-18T07:50:46.882316",
   "version": "2.4.0"
  }
 },
 "nbformat": 4,
 "nbformat_minor": 5
}
