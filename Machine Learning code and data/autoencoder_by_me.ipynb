{
 "cells": [
  {
   "cell_type": "code",
   "execution_count": 2,
   "id": "90efeeef-220e-4abe-8e0a-6e8415643eee",
   "metadata": {},
   "outputs": [],
   "source": [
    "import numpy as np\n",
    "import matplotlib.pyplot as plt\n",
    "import pandas as pd\n",
    "import seaborn as sns\n"
   ]
  },
  {
   "cell_type": "code",
   "execution_count": 3,
   "id": "696502a1-a899-45de-b9d9-9839e0e7d3af",
   "metadata": {},
   "outputs": [],
   "source": [
    "from sklearn.datasets import make_blobs"
   ]
  },
  {
   "cell_type": "code",
   "execution_count": 4,
   "id": "22989626-8efb-46b7-babe-a2e77d526e48",
   "metadata": {},
   "outputs": [],
   "source": [
    "data = make_blobs(n_samples=300,\n",
    "                 n_features=2,\n",
    "                 centers=2,\n",
    "                 cluster_std=1.0, random_state=101)"
   ]
  },
  {
   "cell_type": "code",
   "execution_count": 5,
   "id": "fee60c6b-79db-4fcd-8273-24bd85dffe26",
   "metadata": {},
   "outputs": [],
   "source": [
    "X, y = data"
   ]
  },
  {
   "cell_type": "code",
   "execution_count": 9,
   "id": "fcb52c61-6341-43a0-8b57-42f13173cb1e",
   "metadata": {},
   "outputs": [],
   "source": [
    "np.random.seed(seed = 101)\n",
    "z_noise = np.random.normal(size = len(X))\n",
    "z_noise = pd.Series(z_noise)\n"
   ]
  },
  {
   "cell_type": "code",
   "execution_count": 10,
   "id": "dcb692eb-daed-42dc-b2dd-c6cd1d380992",
   "metadata": {},
   "outputs": [
    {
     "data": {
      "text/plain": [
       "0      2.706850\n",
       "1      0.628133\n",
       "2      0.907969\n",
       "3      0.503826\n",
       "4      0.651118\n",
       "         ...   \n",
       "295    1.523750\n",
       "296    1.290230\n",
       "297   -1.478319\n",
       "298    0.214234\n",
       "299   -0.240510\n",
       "Length: 300, dtype: float64"
      ]
     },
     "execution_count": 10,
     "metadata": {},
     "output_type": "execute_result"
    }
   ],
   "source": [
    "z_noise"
   ]
  },
  {
   "cell_type": "code",
   "execution_count": 11,
   "id": "75877a88-0883-4474-993c-18ee85f42497",
   "metadata": {},
   "outputs": [],
   "source": [
    "features = pd.DataFrame(X)"
   ]
  },
  {
   "cell_type": "code",
   "execution_count": 12,
   "id": "6448e082-11ee-439e-9013-9a6ecd7b6bbf",
   "metadata": {},
   "outputs": [
    {
     "data": {
      "text/html": [
       "<div>\n",
       "<style scoped>\n",
       "    .dataframe tbody tr th:only-of-type {\n",
       "        vertical-align: middle;\n",
       "    }\n",
       "\n",
       "    .dataframe tbody tr th {\n",
       "        vertical-align: top;\n",
       "    }\n",
       "\n",
       "    .dataframe thead th {\n",
       "        text-align: right;\n",
       "    }\n",
       "</style>\n",
       "<table border=\"1\" class=\"dataframe\">\n",
       "  <thead>\n",
       "    <tr style=\"text-align: right;\">\n",
       "      <th></th>\n",
       "      <th>0</th>\n",
       "      <th>1</th>\n",
       "    </tr>\n",
       "  </thead>\n",
       "  <tbody>\n",
       "    <tr>\n",
       "      <th>0</th>\n",
       "      <td>-8.877721</td>\n",
       "      <td>-6.760078</td>\n",
       "    </tr>\n",
       "    <tr>\n",
       "      <th>1</th>\n",
       "      <td>0.630638</td>\n",
       "      <td>3.107075</td>\n",
       "    </tr>\n",
       "    <tr>\n",
       "      <th>2</th>\n",
       "      <td>-0.240609</td>\n",
       "      <td>2.820690</td>\n",
       "    </tr>\n",
       "    <tr>\n",
       "      <th>3</th>\n",
       "      <td>-7.839091</td>\n",
       "      <td>-8.207545</td>\n",
       "    </tr>\n",
       "    <tr>\n",
       "      <th>4</th>\n",
       "      <td>-10.972908</td>\n",
       "      <td>-7.390676</td>\n",
       "    </tr>\n",
       "    <tr>\n",
       "      <th>...</th>\n",
       "      <td>...</td>\n",
       "      <td>...</td>\n",
       "    </tr>\n",
       "    <tr>\n",
       "      <th>295</th>\n",
       "      <td>1.320546</td>\n",
       "      <td>2.605592</td>\n",
       "    </tr>\n",
       "    <tr>\n",
       "      <th>296</th>\n",
       "      <td>-8.043916</td>\n",
       "      <td>-6.010589</td>\n",
       "    </tr>\n",
       "    <tr>\n",
       "      <th>297</th>\n",
       "      <td>-9.733566</td>\n",
       "      <td>-7.460380</td>\n",
       "    </tr>\n",
       "    <tr>\n",
       "      <th>298</th>\n",
       "      <td>-10.722075</td>\n",
       "      <td>-5.568565</td>\n",
       "    </tr>\n",
       "    <tr>\n",
       "      <th>299</th>\n",
       "      <td>1.529717</td>\n",
       "      <td>0.592889</td>\n",
       "    </tr>\n",
       "  </tbody>\n",
       "</table>\n",
       "<p>300 rows × 2 columns</p>\n",
       "</div>"
      ],
      "text/plain": [
       "             0         1\n",
       "0    -8.877721 -6.760078\n",
       "1     0.630638  3.107075\n",
       "2    -0.240609  2.820690\n",
       "3    -7.839091 -8.207545\n",
       "4   -10.972908 -7.390676\n",
       "..         ...       ...\n",
       "295   1.320546  2.605592\n",
       "296  -8.043916 -6.010589\n",
       "297  -9.733566 -7.460380\n",
       "298 -10.722075 -5.568565\n",
       "299   1.529717  0.592889\n",
       "\n",
       "[300 rows x 2 columns]"
      ]
     },
     "execution_count": 12,
     "metadata": {},
     "output_type": "execute_result"
    }
   ],
   "source": [
    "features"
   ]
  },
  {
   "cell_type": "code",
   "execution_count": 13,
   "id": "49a8e683-c277-4c0a-8d0d-5dec02f4b614",
   "metadata": {},
   "outputs": [],
   "source": [
    "features = pd.concat([features, z_noise], axis = 1)"
   ]
  },
  {
   "cell_type": "code",
   "execution_count": 14,
   "id": "422b157f-f123-45b4-badc-a36b5278ee2c",
   "metadata": {},
   "outputs": [],
   "source": [
    "features.columns = ['X1', 'X2', 'X3']"
   ]
  },
  {
   "cell_type": "code",
   "execution_count": 16,
   "id": "6ca8c560-73f4-45c8-90bc-500803282131",
   "metadata": {},
   "outputs": [
    {
     "data": {
      "text/plain": [
       "<matplotlib.collections.PathCollection at 0x263639fa550>"
      ]
     },
     "execution_count": 16,
     "metadata": {},
     "output_type": "execute_result"
    },
    {
     "data": {
      "image/png": "[encoded data removed]",
      "text/plain": [
       "<Figure size 432x288 with 1 Axes>"
      ]
     },
     "metadata": {
      "needs_background": "light"
     },
     "output_type": "display_data"
    }
   ],
   "source": [
    "plt.scatter(features['X1'], features['X2'], c = y)"
   ]
  },
  {
   "cell_type": "code",
   "execution_count": 17,
   "id": "4d0e4c43-0814-4d33-a11d-5494ef417038",
   "metadata": {},
   "outputs": [],
   "source": [
    "from mpl_toolkits.mplot3d import Axes3D\n"
   ]
  },
  {
   "cell_type": "code",
   "execution_count": 18,
   "id": "fb6999ef-22c1-4dea-98f3-afdc6c337f3c",
   "metadata": {},
   "outputs": [
    {
     "data": {
      "text/plain": [
       "<Figure size 432x288 with 0 Axes>"
      ]
     },
     "metadata": {},
     "output_type": "display_data"
    }
   ],
   "source": []
  },
  {
   "cell_type": "code",
   "execution_count": 21,
   "id": "7b5e0ae4-c504-41e4-a8f9-5a59e7fc3807",
   "metadata": {},
   "outputs": [
    {
     "data": {
      "text/plain": [
       "<mpl_toolkits.mplot3d.art3d.Path3DCollection at 0x2636c4d8f70>"
      ]
     },
     "execution_count": 21,
     "metadata": {},
     "output_type": "execute_result"
    },
    {
     "data": {
      "image/png": "[encoded data removed]",
      "text/plain": [
       "<Figure size 432x288 with 1 Axes>"
      ]
     },
     "metadata": {
      "needs_background": "light"
     },
     "output_type": "display_data"
    }
   ],
   "source": [
    "fig = plt.figure()\n",
    "ax = fig.add_subplot(111,projection = '3d')\n",
    "ax.scatter(features['X1'], features['X2'], features['X3'])"
   ]
  },
  {
   "cell_type": "code",
   "execution_count": 22,
   "id": "ab15cbd6-b365-4cbd-8938-b4018fdfaf8c",
   "metadata": {},
   "outputs": [],
   "source": [
    "from tensorflow.keras.models import Sequential\n"
   ]
  },
  {
   "cell_type": "code",
   "execution_count": 23,
   "id": "a68acb52-9942-4fdf-9e27-d6ef892db425",
   "metadata": {},
   "outputs": [],
   "source": [
    "from tensorflow.keras.layers import Dense\n",
    "from tensorflow.keras.optimizers import SGD"
   ]
  },
  {
   "cell_type": "code",
   "execution_count": 24,
   "id": "5708dc4a-996f-4df6-85f7-d7f0c120b0f9",
   "metadata": {},
   "outputs": [],
   "source": [
    "encoder = Sequential()\n",
    "encoder.add(Dense(units = 2, activation = 'relu', input_shape = [3]))\n"
   ]
  },
  {
   "cell_type": "code",
   "execution_count": 25,
   "id": "af827a2a-1d3e-442d-a856-e4167472931c",
   "metadata": {},
   "outputs": [],
   "source": [
    "decoder = Sequential()\n",
    "decoder.add(Dense(units = 3, activation = 'relu', input_shape = [2]))"
   ]
  },
  {
   "cell_type": "code",
   "execution_count": 26,
   "id": "369d8939-5276-4bc6-87bd-404aa5c61663",
   "metadata": {},
   "outputs": [],
   "source": [
    "autoencoder = Sequential([encoder, decoder])\n"
   ]
  },
  {
   "cell_type": "code",
   "execution_count": 29,
   "id": "2c9be727-a7e6-4537-afa3-b4f03162129a",
   "metadata": {},
   "outputs": [],
   "source": [
    "autoencoder.compile(loss= 'mse', optimizer = SGD(lr=0.5))"
   ]
  },
  {
   "cell_type": "code",
   "execution_count": 30,
   "id": "337a9ca9-045c-4030-9712-dbe4eeed12d6",
   "metadata": {},
   "outputs": [],
   "source": [
    "from sklearn.preprocessing import MinMaxScaler"
   ]
  },
  {
   "cell_type": "code",
   "execution_count": 31,
   "id": "ea846c49-adb5-4c41-a423-dcf878473845",
   "metadata": {},
   "outputs": [],
   "source": [
    "scaler = MinMaxScaler()"
   ]
  },
  {
   "cell_type": "code",
   "execution_count": 33,
   "id": "f6db0ffb-9fa7-437b-9bc4-efc879734880",
   "metadata": {},
   "outputs": [],
   "source": [
    "scaled_data = scaler.fit_transform(features)"
   ]
  },
  {
   "cell_type": "code",
   "execution_count": 34,
   "id": "737da5a0-1532-49fe-88dd-cb3094f82beb",
   "metadata": {},
   "outputs": [
    {
     "name": "stdout",
     "output_type": "stream",
     "text": [
      "Epoch 1/5\n",
      "10/10 [==============================] - 0s 2ms/step - loss: 0.2488\n",
      "Epoch 2/5\n",
      "10/10 [==============================] - 0s 2ms/step - loss: 0.2435\n",
      "Epoch 3/5\n",
      "10/10 [==============================] - 0s 2ms/step - loss: 0.2412\n",
      "Epoch 4/5\n",
      "10/10 [==============================] - 0s 1ms/step - loss: 0.2400\n",
      "Epoch 5/5\n",
      "10/10 [==============================] - 0s 2ms/step - loss: 0.2369\n"
     ]
    },
    {
     "data": {
      "text/plain": [
       "<tensorflow.python.keras.callbacks.History at 0x2636ddc3df0>"
      ]
     },
     "execution_count": 34,
     "metadata": {},
     "output_type": "execute_result"
    }
   ],
   "source": [
    "autoencoder.fit(scaled_data, scaled_data, epochs=5)"
   ]
  },
  {
   "cell_type": "code",
   "execution_count": 35,
   "id": "48f2cf1a-b8fd-4101-b28a-d6d685446782",
   "metadata": {},
   "outputs": [],
   "source": [
    "encoded_2dim = encoder.predict(scaled_data)"
   ]
  },
  {
   "cell_type": "code",
   "execution_count": 36,
   "id": "d5755481-3c49-4f53-8e7d-5607d24fa1c7",
   "metadata": {},
   "outputs": [
    {
     "data": {
      "text/plain": [
       "array([[0.7932461 , 0.03199137],\n",
       "       [0.32918963, 0.72924817],\n",
       "       [0.3649797 , 0.66584307],\n",
       "       [0.50938314, 0.16801372],\n",
       "       [0.4356704 , 0.        ],\n",
       "       [0.22830734, 0.04096481],\n",
       "       [0.1869508 , 0.78924584],\n",
       "       [0.43743762, 0.0269018 ],\n",
       "       [0.        , 0.799053  ],\n",
       "       [0.36808538, 0.69133663],\n",
       "       [0.37181953, 0.07010818],\n",
       "       [0.20660156, 0.0243525 ],\n",
       "       [0.24580288, 0.74139744],\n",
       "       [0.25545794, 0.20990553],\n",
       "       [0.1695767 , 0.8020172 ],\n",
       "       [0.55074793, 0.1780498 ],\n",
       "       [0.25487027, 0.66030365],\n",
       "       [0.6003012 , 0.67330384],\n",
       "       [0.6754806 , 0.5585811 ],\n",
       "       [0.4645619 , 0.734967  ],\n",
       "       [0.3637953 , 0.02259973],\n",
       "       [0.48456195, 0.6481641 ],\n",
       "       [0.        , 0.8170207 ],\n",
       "       [0.19921106, 0.16038612],\n",
       "       [0.31561878, 0.        ],\n",
       "       [0.31913412, 0.71224785],\n",
       "       [0.23405623, 0.67842174],\n",
       "       [0.38151383, 0.7584217 ],\n",
       "       [0.4850935 , 0.05829826],\n",
       "       [0.34275964, 0.02134071],\n",
       "       [0.5154808 , 0.01071278],\n",
       "       [0.47245464, 0.1663123 ],\n",
       "       [0.20276979, 0.8050131 ],\n",
       "       [0.15972942, 0.8100998 ],\n",
       "       [0.1519531 , 0.01265678],\n",
       "       [0.41234154, 0.15148647],\n",
       "       [0.18606216, 0.6897183 ],\n",
       "       [0.60173416, 0.75860685],\n",
       "       [0.21909377, 0.6726122 ],\n",
       "       [0.5781168 , 0.5852109 ],\n",
       "       [0.14361358, 0.7695167 ],\n",
       "       [0.35994127, 0.13805556],\n",
       "       [0.1636008 , 0.79257804],\n",
       "       [0.43548408, 0.18252262],\n",
       "       [0.52591056, 0.7973872 ],\n",
       "       [0.23875055, 0.0441898 ],\n",
       "       [0.35126367, 0.03870462],\n",
       "       [0.44980744, 0.08047888],\n",
       "       [0.6719079 , 0.03244331],\n",
       "       [0.28860155, 0.19350332],\n",
       "       [0.17667711, 0.06825423],\n",
       "       [0.29544514, 0.12251507],\n",
       "       [0.2877949 , 0.70834446],\n",
       "       [0.08835927, 0.5932925 ],\n",
       "       [0.38360918, 0.6851479 ],\n",
       "       [0.5241396 , 0.75154805],\n",
       "       [0.1276257 , 0.7579265 ],\n",
       "       [0.6097316 , 0.6597196 ],\n",
       "       [0.14674717, 0.14069247],\n",
       "       [0.32772088, 0.6629268 ],\n",
       "       [0.3432738 , 0.        ],\n",
       "       [0.66907996, 0.        ],\n",
       "       [0.28041774, 0.12049306],\n",
       "       [0.24895066, 0.72659934],\n",
       "       [0.38683632, 0.708842  ],\n",
       "       [0.46979085, 0.7330267 ],\n",
       "       [0.30913487, 0.1396037 ],\n",
       "       [0.67669874, 0.0618016 ],\n",
       "       [0.20668688, 0.09475911],\n",
       "       [0.14665267, 0.05245039],\n",
       "       [0.388665  , 0.07433948],\n",
       "       [0.12039744, 0.7311971 ],\n",
       "       [0.05161294, 0.14730355],\n",
       "       [0.56133956, 0.11410928],\n",
       "       [0.5672577 , 0.13336274],\n",
       "       [0.        , 0.73045784],\n",
       "       [0.44046196, 0.7081504 ],\n",
       "       [0.48351392, 0.0468018 ],\n",
       "       [0.16559443, 0.80873156],\n",
       "       [0.5368938 , 0.64258957],\n",
       "       [0.19345048, 0.3073432 ],\n",
       "       [0.11947306, 0.7006185 ],\n",
       "       [0.20296443, 0.6824038 ],\n",
       "       [0.3518181 , 0.77795225],\n",
       "       [0.35747197, 0.70971113],\n",
       "       [0.39609903, 0.20779893],\n",
       "       [0.05036766, 0.761597  ],\n",
       "       [0.553902  , 0.70173883],\n",
       "       [0.45140496, 0.10031515],\n",
       "       [0.16301817, 0.688911  ],\n",
       "       [0.11672645, 0.6337063 ],\n",
       "       [0.6278806 , 0.11730804],\n",
       "       [0.5251653 , 0.17689043],\n",
       "       [0.21490052, 0.14385483],\n",
       "       [0.2606976 , 0.1302751 ],\n",
       "       [0.5700472 , 0.03604636],\n",
       "       [0.        , 0.7790272 ],\n",
       "       [0.16993308, 0.7427649 ],\n",
       "       [0.35597876, 0.6516391 ],\n",
       "       [0.01801998, 0.80766183],\n",
       "       [0.51808417, 0.6189613 ],\n",
       "       [0.17048857, 0.21938312],\n",
       "       [0.08978026, 0.11115338],\n",
       "       [0.01439659, 0.688336  ],\n",
       "       [0.316315  , 0.6570349 ],\n",
       "       [0.27909985, 0.13849454],\n",
       "       [0.17379144, 0.7601217 ],\n",
       "       [0.32481   , 0.0487387 ],\n",
       "       [0.11641683, 0.04035024],\n",
       "       [0.36377499, 0.72780293],\n",
       "       [0.4143523 , 0.719009  ],\n",
       "       [0.33538723, 0.7262885 ],\n",
       "       [0.21763611, 0.24652717],\n",
       "       [0.505793  , 0.03280298],\n",
       "       [0.39164138, 0.18116212],\n",
       "       [0.46641216, 0.13247551],\n",
       "       [0.5685455 , 0.05452305],\n",
       "       [0.15230906, 0.        ],\n",
       "       [0.3630417 , 0.6853149 ],\n",
       "       [0.07970013, 0.7345325 ],\n",
       "       [0.38885498, 0.0311382 ],\n",
       "       [0.09304409, 0.21390861],\n",
       "       [0.49492875, 0.15338194],\n",
       "       [0.39717746, 0.16411488],\n",
       "       [0.05124896, 0.14087017],\n",
       "       [0.41175514, 0.07961069],\n",
       "       [0.23998478, 0.15468471],\n",
       "       [0.613436  , 0.6618095 ],\n",
       "       [0.22934568, 0.6460711 ],\n",
       "       [0.68361264, 0.6636745 ],\n",
       "       [0.47084638, 0.78367645],\n",
       "       [0.18072966, 0.12755628],\n",
       "       [0.37589827, 0.12364741],\n",
       "       [0.327069  , 0.0927233 ],\n",
       "       [0.48723105, 0.13256271],\n",
       "       [0.0824636 , 0.12922445],\n",
       "       [0.25115663, 0.7456155 ],\n",
       "       [0.1448543 , 0.7604905 ],\n",
       "       [0.34633243, 0.07809998],\n",
       "       [0.38548866, 0.08271545],\n",
       "       [0.40332353, 0.08650481],\n",
       "       [0.44493756, 0.04508876],\n",
       "       [0.2237888 , 0.02001736],\n",
       "       [0.48469576, 0.15523252],\n",
       "       [0.2626775 , 0.7767561 ],\n",
       "       [0.19247404, 0.7518537 ],\n",
       "       [0.41309884, 0.17219532],\n",
       "       [0.29319584, 0.02205091],\n",
       "       [0.14951798, 0.74938774],\n",
       "       [0.648634  , 0.59215266],\n",
       "       [0.1677345 , 0.16343656],\n",
       "       [0.05527618, 0.00817981],\n",
       "       [0.45479652, 0.6642069 ],\n",
       "       [0.4659144 , 0.1303807 ],\n",
       "       [0.34628418, 0.7472082 ],\n",
       "       [0.15410602, 0.7882785 ],\n",
       "       [0.16628155, 0.27838668],\n",
       "       [0.21843278, 0.7481074 ],\n",
       "       [0.30589172, 0.88313615],\n",
       "       [0.2957772 , 0.6906986 ],\n",
       "       [0.33443674, 0.17726293],\n",
       "       [0.4852949 , 0.6523653 ],\n",
       "       [0.15845877, 0.12255472],\n",
       "       [0.09038795, 0.27571324],\n",
       "       [0.26028284, 0.72339946],\n",
       "       [0.        , 0.79417044],\n",
       "       [0.        , 0.7780641 ],\n",
       "       [0.58083886, 0.06825424],\n",
       "       [0.34595466, 0.7226559 ],\n",
       "       [0.22299105, 0.16511172],\n",
       "       [0.3109623 , 0.1769312 ],\n",
       "       [0.570617  , 0.8302186 ],\n",
       "       [0.4639068 , 0.7217397 ],\n",
       "       [0.4039602 , 0.68408984],\n",
       "       [0.3606093 , 0.77114683],\n",
       "       [0.18543702, 0.2005561 ],\n",
       "       [0.2188097 , 0.6089358 ],\n",
       "       [0.16084212, 0.8157528 ],\n",
       "       [0.7003263 , 0.        ],\n",
       "       [0.10045014, 0.7166788 ],\n",
       "       [0.17368707, 0.14500834],\n",
       "       [0.1224147 , 0.27232805],\n",
       "       [0.47749534, 0.81605846],\n",
       "       [0.05501329, 0.11738701],\n",
       "       [0.38061976, 0.6382253 ],\n",
       "       [0.43134758, 0.22079575],\n",
       "       [0.38174775, 0.2606907 ],\n",
       "       [0.6854473 , 0.6685817 ],\n",
       "       [0.27227756, 0.1616382 ],\n",
       "       [0.3389164 , 0.752211  ],\n",
       "       [0.18849838, 0.11762128],\n",
       "       [0.25128046, 0.19377589],\n",
       "       [0.4095939 , 0.        ],\n",
       "       [0.21858656, 0.14509684],\n",
       "       [0.2717862 , 0.74566585],\n",
       "       [0.37166876, 0.7274423 ],\n",
       "       [0.35756755, 0.01437025],\n",
       "       [0.18253723, 0.7121167 ],\n",
       "       [0.31058782, 0.13523337],\n",
       "       [0.        , 0.82958066],\n",
       "       [0.21742594, 0.7151835 ],\n",
       "       [0.50010955, 0.16246195],\n",
       "       [0.63625634, 0.6474258 ],\n",
       "       [0.40638664, 0.60898304],\n",
       "       [0.26123214, 0.6381782 ],\n",
       "       [0.45610556, 0.19084814],\n",
       "       [0.08737353, 0.7014762 ],\n",
       "       [0.46415272, 0.6182689 ],\n",
       "       [0.48575255, 0.        ],\n",
       "       [0.2513248 , 0.19651112],\n",
       "       [0.08085928, 0.10534053],\n",
       "       [0.34525326, 0.06380925],\n",
       "       [0.43415108, 0.58076566],\n",
       "       [0.26364088, 0.13656154],\n",
       "       [0.33346763, 0.0986266 ],\n",
       "       [0.40254295, 0.06086446],\n",
       "       [0.39499983, 0.67069274],\n",
       "       [0.45688614, 0.74777764],\n",
       "       [0.11229708, 0.7552089 ],\n",
       "       [0.3800657 , 0.6121758 ],\n",
       "       [0.23253956, 0.62951   ],\n",
       "       [0.26557034, 0.0940861 ],\n",
       "       [0.5541564 , 0.17113772],\n",
       "       [0.02444949, 0.83469903],\n",
       "       [0.4257281 , 0.76132005],\n",
       "       [0.11097575, 0.10654604],\n",
       "       [0.3083138 , 0.23314852],\n",
       "       [0.5325652 , 0.7128603 ],\n",
       "       [0.47671434, 0.77726704],\n",
       "       [0.11709134, 0.8114298 ],\n",
       "       [0.1333214 , 0.13197082],\n",
       "       [0.        , 0.8096346 ],\n",
       "       [0.1136514 , 0.5918428 ],\n",
       "       [0.5942605 , 0.        ],\n",
       "       [0.29333845, 0.62906885],\n",
       "       [0.16421929, 0.09521642],\n",
       "       [0.24444184, 0.7951674 ],\n",
       "       [0.10131734, 0.8255046 ],\n",
       "       [0.21099555, 0.6799838 ],\n",
       "       [0.47524443, 0.14015597],\n",
       "       [0.06498443, 0.81877375],\n",
       "       [0.40586334, 0.57091284],\n",
       "       [0.6271145 , 0.78242314],\n",
       "       [0.48715642, 0.08563289],\n",
       "       [0.288985  , 0.11982701],\n",
       "       [0.38685256, 0.662619  ],\n",
       "       [0.11842983, 0.773323  ],\n",
       "       [0.19309765, 0.234579  ],\n",
       "       [0.6931951 , 0.05248377],\n",
       "       [0.03047626, 0.7872901 ],\n",
       "       [0.16439435, 0.80339015],\n",
       "       [0.32072604, 0.77492446],\n",
       "       [0.35758004, 0.64174616],\n",
       "       [0.46846405, 0.6765743 ],\n",
       "       [0.4281238 , 0.03793874],\n",
       "       [0.5426472 , 0.1594441 ],\n",
       "       [0.38037238, 0.6123329 ],\n",
       "       [0.3425969 , 0.71579605],\n",
       "       [0.09481167, 0.7022368 ],\n",
       "       [0.33186412, 0.02380218],\n",
       "       [0.21204856, 0.08044775],\n",
       "       [0.07791132, 0.71038634],\n",
       "       [0.2731543 , 0.23888952],\n",
       "       [0.69982666, 0.03724732],\n",
       "       [0.49725708, 0.06518926],\n",
       "       [0.47238734, 0.09337217],\n",
       "       [0.14725763, 0.83716315],\n",
       "       [0.36633337, 0.05038173],\n",
       "       [0.35435396, 0.28379664],\n",
       "       [0.35785133, 0.15589479],\n",
       "       [0.36786604, 0.6306317 ],\n",
       "       [0.28228077, 0.7668252 ],\n",
       "       [0.39952686, 0.18206552],\n",
       "       [0.33231208, 0.67319834],\n",
       "       [0.3587424 , 0.14446296],\n",
       "       [0.5247023 , 0.09578457],\n",
       "       [0.01172964, 0.2548098 ],\n",
       "       [0.10334846, 0.7801384 ],\n",
       "       [0.2683448 , 0.6673203 ],\n",
       "       [0.1419693 , 0.6772713 ],\n",
       "       [0.0763647 , 0.7213639 ],\n",
       "       [0.        , 0.15724245],\n",
       "       [0.35996315, 0.6988027 ],\n",
       "       [0.34202456, 0.17531559],\n",
       "       [0.2720176 , 0.15357685],\n",
       "       [0.5566391 , 0.58191335],\n",
       "       [0.1981807 , 0.6966867 ],\n",
       "       [0.4806039 , 0.        ],\n",
       "       [0.3618837 , 0.03117381],\n",
       "       [0.40927896, 0.70741594],\n",
       "       [0.04306421, 0.19575164],\n",
       "       [0.3156933 , 0.15621604],\n",
       "       [0.21378723, 0.7890015 ],\n",
       "       [0.44284824, 0.07929998],\n",
       "       [0.76293886, 0.65351444],\n",
       "       [0.50666183, 0.73194677],\n",
       "       [0.55674213, 0.13979173],\n",
       "       [0.12089806, 0.13828926],\n",
       "       [0.3080049 , 0.02760708],\n",
       "       [0.2948068 , 0.7991337 ]], dtype=float32)"
      ]
     },
     "execution_count": 36,
     "metadata": {},
     "output_type": "execute_result"
    }
   ],
   "source": [
    "encoded_2dim"
   ]
  },
  {
   "cell_type": "code",
   "execution_count": 37,
   "id": "a4d6932d-ffc1-49e1-b1fa-a1867c1e5f96",
   "metadata": {},
   "outputs": [
    {
     "data": {
      "text/plain": [
       "(300, 2)"
      ]
     },
     "execution_count": 37,
     "metadata": {},
     "output_type": "execute_result"
    }
   ],
   "source": [
    "encoded_2dim.shape\n"
   ]
  },
  {
   "cell_type": "code",
   "execution_count": 38,
   "id": "a3c7d6dd-e893-40cf-b161-d057ba536355",
   "metadata": {},
   "outputs": [
    {
     "data": {
      "text/plain": [
       "(300, 3)"
      ]
     },
     "execution_count": 38,
     "metadata": {},
     "output_type": "execute_result"
    }
   ],
   "source": [
    "scaled_data.shape"
   ]
  },
  {
   "cell_type": "code",
   "execution_count": 40,
   "id": "bf4324b0-c86b-4fb0-95f2-de78addd3431",
   "metadata": {},
   "outputs": [
    {
     "data": {
      "text/plain": [
       "<matplotlib.collections.PathCollection at 0x2636f347fd0>"
      ]
     },
     "execution_count": 40,
     "metadata": {},
     "output_type": "execute_result"
    },
    {
     "data": {
      "image/png": "[encoded data removed]",
      "text/plain": [
       "<Figure size 432x288 with 1 Axes>"
      ]
     },
     "metadata": {
      "needs_background": "light"
     },
     "output_type": "display_data"
    }
   ],
   "source": [
    "plt.scatter(encoded_2dim[:, 0], encoded_2dim[:, 1], c = y)"
   ]
  },
  {
   "cell_type": "code",
   "execution_count": null,
   "id": "5f5671e9-3731-4833-9c91-85ed681635c8",
   "metadata": {},
   "outputs": [],
   "source": []
  }
 ],
 "metadata": {
  "kernelspec": {
   "display_name": "Python 3 (ipykernel)",
   "language": "python",
   "name": "python3"
  },
  "language_info": {
   "codemirror_mode": {
    "name": "ipython",
    "version": 3
   },
   "file_extension": ".py",
   "mimetype": "text/x-python",
   "name": "python",
   "nbconvert_exporter": "python",
   "pygments_lexer": "ipython3",
   "version": "3.8.12"
  }
 },
 "nbformat": 4,
 "nbformat_minor": 5
}
